{
 "cells": [
  {
   "cell_type": "code",
   "execution_count": 1,
   "metadata": {},
   "outputs": [],
   "source": [
    "P = [-5620,-6230,-6460,-6770,-6080,4480,4210,5250,\n",
    "     5900,5850,5790,5780,5360,5520,4530,5880,4220]"
   ]
  },
  {
   "cell_type": "code",
   "execution_count": 2,
   "metadata": {},
   "outputs": [
    {
     "name": "stdout",
     "output_type": "stream",
     "text": [
      "Twoje NPV dla inwestycji 1 wynosi: -0.0045\n"
     ]
    }
   ],
   "source": [
    "WYNIK2 = 0\n",
    "R2 = 0.09035015\n",
    "for y,x in enumerate(P):\n",
    "    WYNIK2 = WYNIK2 + (x)/((1+R2)**(y))   \n",
    "print(f\"Twoje NPV dla inwestycji 1 wynosi: {WYNIK2:.4f}\")"
   ]
  },
  {
   "cell_type": "code",
   "execution_count": 3,
   "metadata": {},
   "outputs": [
    {
     "name": "stdout",
     "output_type": "stream",
     "text": [
      "Twoje NPV dla inwestycji 2 wynosi: 0.0048\n"
     ]
    }
   ],
   "source": [
    "WYNIK = 0\n",
    "R1 = 0.0903501\n",
    "for y,x in enumerate(P):\n",
    "    WYNIK = WYNIK + (x)/((1+R1)**(y))\n",
    "print(f\"Twoje NPV dla inwestycji 2 wynosi: {WYNIK:.4f}\")"
   ]
  },
  {
   "cell_type": "code",
   "execution_count": 4,
   "metadata": {},
   "outputs": [
    {
     "name": "stdout",
     "output_type": "stream",
     "text": [
      "Wewnętrzna stopa zwrotu wynosi: 0.0904\n"
     ]
    }
   ],
   "source": [
    "IRR = R1 + (WYNIK*(R2-R1))/(WYNIK-WYNIK2)\n",
    "print(f\"Wewnętrzna stopa zwrotu wynosi: {IRR:.4F}\")"
   ]
  }
 ],
 "metadata": {
  "interpreter": {
   "hash": "2043299c89c8cd0b4d1a6f5cf4529bd58e6a4e0fe3181a25e0d328c821cdc5c5"
  },
  "kernelspec": {
   "display_name": "Python 3.8.8 ('base')",
   "language": "python",
   "name": "python3"
  },
  "language_info": {
   "codemirror_mode": {
    "name": "ipython",
    "version": 3
   },
   "file_extension": ".py",
   "mimetype": "text/x-python",
   "name": "python",
   "nbconvert_exporter": "python",
   "pygments_lexer": "ipython3",
   "version": "3.8.8"
  },
  "orig_nbformat": 4
 },
 "nbformat": 4,
 "nbformat_minor": 2
}
