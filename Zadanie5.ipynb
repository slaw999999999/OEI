{
 "cells": [
  {
   "cell_type": "code",
   "execution_count": 39,
   "metadata": {},
   "outputs": [],
   "source": [
    "P1 = [-5000,-6110,-4930,3460,2700,2210,2000,4240,2140,2550,3820]\n",
    "P2 = [-3320,-6620,-3650,3210,3150,2480,3770,2140,2430,3410,2000]\n",
    "\n",
    "R = 0.15\n",
    "RE_INW = 0.08\n",
    "n = len(P1)"
   ]
  },
  {
   "cell_type": "markdown",
   "metadata": {},
   "source": [
    "PODZIAŁ NA DODATNIE I UJEMNE SUMY P1"
   ]
  },
  {
   "cell_type": "code",
   "execution_count": 40,
   "metadata": {},
   "outputs": [],
   "source": [
    "P1_PLUS_TABLE = []\n",
    "P1_PLUS = 0\n",
    "\n",
    "for y,x in enumerate(P1):\n",
    "    if P1[y]>0:\n",
    "        P1_PLUS_TABLE.append(x)\n",
    "\n",
    "for y,x in enumerate(P1_PLUS_TABLE):\n",
    "    P1_PLUS = P1_PLUS+(x)*((1+RE_INW)**(y))"
   ]
  },
  {
   "cell_type": "markdown",
   "metadata": {},
   "source": [
    "PODZIAŁ NA DODATNIE I UJEMNE SUMY P2"
   ]
  },
  {
   "cell_type": "code",
   "execution_count": 41,
   "metadata": {},
   "outputs": [],
   "source": [
    "P2_PLUS_TABLE = []\n",
    "P2_PLUS = 0\n",
    "\n",
    "for y,x in enumerate(P2):\n",
    "    if P2[y]>0:\n",
    "        P2_PLUS_TABLE.append(x)\n",
    "\n",
    "for y,x in enumerate(P2_PLUS_TABLE):\n",
    "    P2_PLUS = P2_PLUS+(x)*((1+RE_INW)**(y))"
   ]
  },
  {
   "cell_type": "markdown",
   "metadata": {},
   "source": [
    "MIRR DLA P1"
   ]
  },
  {
   "cell_type": "code",
   "execution_count": 42,
   "metadata": {},
   "outputs": [],
   "source": [
    "P1_MINUS_TABLE = []\n",
    "P1_MINUS = 0\n",
    "\n",
    "for y,x in enumerate(P1):\n",
    "    if P1[y]<0:\n",
    "        P1_MINUS_TABLE.append(x)\n",
    "\n",
    "for y,x in enumerate(P1_MINUS_TABLE):\n",
    "    P1_MINUS = P1_MINUS+(x)/((1+R)**(y))"
   ]
  },
  {
   "cell_type": "code",
   "execution_count": 43,
   "metadata": {},
   "outputs": [
    {
     "name": "stdout",
     "output_type": "stream",
     "text": [
      "MIRR z inwestycji wynosi: 0.0746\n"
     ]
    }
   ],
   "source": [
    "MIRR = (P1_PLUS/-P1_MINUS)**(1/n)-1\n",
    "print(f\"MIRR z inwestycji wynosi: {MIRR:.4f}\")"
   ]
  },
  {
   "cell_type": "markdown",
   "metadata": {},
   "source": [
    "MIRR DLA P2"
   ]
  },
  {
   "cell_type": "code",
   "execution_count": 44,
   "metadata": {},
   "outputs": [],
   "source": [
    "P2_MINUS_TABLE = []\n",
    "P2_MINUS = 0\n",
    "\n",
    "for y,x in enumerate(P2):\n",
    "    if P2[y]<0:\n",
    "        P2_MINUS_TABLE.append(x)\n",
    "\n",
    "for y,x in enumerate(P1_MINUS_TABLE):\n",
    "    P2_MINUS = P2_MINUS+(x)/((1+R)**(y))"
   ]
  },
  {
   "cell_type": "code",
   "execution_count": 45,
   "metadata": {},
   "outputs": [
    {
     "name": "stdout",
     "output_type": "stream",
     "text": [
      "MIRR z inwestycji wynosi: 0.0701\n"
     ]
    }
   ],
   "source": [
    "MIRR2 = (P2_PLUS/-P2_MINUS)**(1/n)-1\n",
    "print(f\"MIRR z inwestycji wynosi: {MIRR2:.4f}\")"
   ]
  }
 ],
 "metadata": {
  "interpreter": {
   "hash": "2043299c89c8cd0b4d1a6f5cf4529bd58e6a4e0fe3181a25e0d328c821cdc5c5"
  },
  "kernelspec": {
   "display_name": "Python 3.8.8 ('base')",
   "language": "python",
   "name": "python3"
  },
  "language_info": {
   "codemirror_mode": {
    "name": "ipython",
    "version": 3
   },
   "file_extension": ".py",
   "mimetype": "text/x-python",
   "name": "python",
   "nbconvert_exporter": "python",
   "pygments_lexer": "ipython3",
   "version": "3.8.8"
  },
  "orig_nbformat": 4
 },
 "nbformat": 4,
 "nbformat_minor": 2
}
