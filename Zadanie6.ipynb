{
 "cells": [
  {
   "cell_type": "code",
   "execution_count": 1,
   "metadata": {},
   "outputs": [],
   "source": [
    "KOSZTY_PROD = 4250\n",
    "CENA_JEDN = 41.6\n",
    "JEDN_KOSZT_ZMIEN = 12.7"
   ]
  },
  {
   "cell_type": "markdown",
   "metadata": {},
   "source": [
    "ILOŚCIOWY PRÓ RENTOWNOŚCI"
   ]
  },
  {
   "cell_type": "code",
   "execution_count": 2,
   "metadata": {},
   "outputs": [
    {
     "name": "stdout",
     "output_type": "stream",
     "text": [
      "Twój ilościowy próg rentowności ukształtował się na poziomie: 148 sztuk. Czyli żeby nie wyjść stratnym musisz wyprodukowac minimum tyle sztuk.\n"
     ]
    }
   ],
   "source": [
    "RENTOWNOSC = KOSZTY_PROD/(CENA_JEDN-JEDN_KOSZT_ZMIEN)\n",
    "print(f\"Twój ilościowy próg rentowności ukształtował się na poziomie: {int(RENTOWNOSC)+1} sztuk. Czyli żeby nie wyjść stratnym musisz wyprodukowac minimum tyle sztuk.\")"
   ]
  }
 ],
 "metadata": {
  "interpreter": {
   "hash": "2043299c89c8cd0b4d1a6f5cf4529bd58e6a4e0fe3181a25e0d328c821cdc5c5"
  },
  "kernelspec": {
   "display_name": "Python 3.8.8 ('base')",
   "language": "python",
   "name": "python3"
  },
  "language_info": {
   "codemirror_mode": {
    "name": "ipython",
    "version": 3
   },
   "file_extension": ".py",
   "mimetype": "text/x-python",
   "name": "python",
   "nbconvert_exporter": "python",
   "pygments_lexer": "ipython3",
   "version": "3.8.8"
  },
  "orig_nbformat": 4
 },
 "nbformat": 4,
 "nbformat_minor": 2
}
