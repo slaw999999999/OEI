{
 "cells": [
  {
   "cell_type": "code",
   "execution_count": 41,
   "metadata": {},
   "outputs": [],
   "source": [
    "P1 = [-1000,-5350,-4830,2180,1840,1810,3640,1530,2930,3560,2770]\n",
    "P2 = [-1000,-3650,-5690,1940,1500,2850,3140,1590,3310,2220,2530]\n",
    "P3 = [-1000,-4870,-4390,3170,3160,2230,2400,3990,1040,1280,1870]\n",
    "\n",
    "R = 0.14"
   ]
  },
  {
   "cell_type": "code",
   "execution_count": 42,
   "metadata": {},
   "outputs": [
    {
     "name": "stdout",
     "output_type": "stream",
     "text": [
      "Twoje NPV dla inwestycji 1 wynosi: -769.7509\n"
     ]
    }
   ],
   "source": [
    "WYNIK2 = 0\n",
    "for y,x in enumerate(P1):\n",
    "    WYNIK2 = WYNIK2 + (x)/((1+R)**(y))   \n",
    "print(f\"Twoje NPV dla inwestycji 1 wynosi: {WYNIK2:.4f}\")"
   ]
  },
  {
   "cell_type": "code",
   "execution_count": 43,
   "metadata": {},
   "outputs": [
    {
     "name": "stdout",
     "output_type": "stream",
     "text": [
      "Twoje NPV dla inwestycji 2 wynosi: -310.8237\n"
     ]
    }
   ],
   "source": [
    "WYNIK2 = 0\n",
    "for y,x in enumerate(P2):\n",
    "    WYNIK2 = WYNIK2 + (x)/((1+R)**(y))   \n",
    "print(f\"Twoje NPV dla inwestycji 2 wynosi: {WYNIK2:.4f}\")"
   ]
  },
  {
   "cell_type": "code",
   "execution_count": 44,
   "metadata": {},
   "outputs": [
    {
     "name": "stdout",
     "output_type": "stream",
     "text": [
      "Twoje NPV dla inwestycji 3 wynosi: 469.5064\n"
     ]
    }
   ],
   "source": [
    "WYNIK2 = 0\n",
    "for y,x in enumerate(P3):\n",
    "    WYNIK2 = WYNIK2 + (x)/((1+R)**(y))   \n",
    "print(f\" Twoje NPV dla inwestycji 3 wynosi: {WYNIK2:.4f}\")"
   ]
  }
 ],
 "metadata": {
  "interpreter": {
   "hash": "2043299c89c8cd0b4d1a6f5cf4529bd58e6a4e0fe3181a25e0d328c821cdc5c5"
  },
  "kernelspec": {
   "display_name": "Python 3.8.8 ('base')",
   "language": "python",
   "name": "python3"
  },
  "language_info": {
   "codemirror_mode": {
    "name": "ipython",
    "version": 3
   },
   "file_extension": ".py",
   "mimetype": "text/x-python",
   "name": "python",
   "nbconvert_exporter": "python",
   "pygments_lexer": "ipython3",
   "version": "3.8.8"
  },
  "orig_nbformat": 4
 },
 "nbformat": 4,
 "nbformat_minor": 2
}
