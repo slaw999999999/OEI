{
 "cells": [
  {
   "cell_type": "code",
   "execution_count": 13,
   "metadata": {},
   "outputs": [],
   "source": [
    "PRZEPŁYW = [-6290, -6200, -4870, -5030, 3780, 2190, 3740, 4020,\n",
    "            4020, 2430, 2050, 4170, 3380, 4230]"
   ]
  },
  {
   "cell_type": "code",
   "execution_count": 14,
   "metadata": {},
   "outputs": [
    {
     "name": "stdout",
     "output_type": "stream",
     "text": [
      "Trafiliśmy na opłacalną inwestycje\n"
     ]
    }
   ],
   "source": [
    "SUMA = 0 \n",
    "for x in PRZEPŁYW:\n",
    "    SUMA  = SUMA + x\n",
    "\n",
    "if SUMA> 0:\n",
    "    print(\"Trafiliśmy na opłacalną inwestycje\")\n",
    "else:\n",
    "    print(\"Trafiliśmy na tragiczną inwestycję!!!\")\n",
    "    "
   ]
  },
  {
   "cell_type": "markdown",
   "metadata": {},
   "source": [
    "NPV"
   ]
  },
  {
   "cell_type": "code",
   "execution_count": 15,
   "metadata": {},
   "outputs": [
    {
     "name": "stdout",
     "output_type": "stream",
     "text": [
      "Twoje NPV dla inwestycji 1 wynosi: 1625.72\n"
     ]
    },
    {
     "data": {
      "image/png": "[encoded data removed]",
      "text/plain": [
       "<Figure size 432x288 with 1 Axes>"
      ]
     },
     "metadata": {
      "needs_background": "light"
     },
     "output_type": "display_data"
    }
   ],
   "source": [
    "WYNIK = 0\n",
    "PLOT_YEARS = []\n",
    "PLOT_VALUES = []\n",
    "STOPA_DYSKONTOWA = 0.05\n",
    "for y,x in enumerate(PRZEPŁYW):\n",
    "    WYNIK = WYNIK + (x)/((1+STOPA_DYSKONTOWA)**(y))\n",
    "    PLOT_YEARS.append(y)\n",
    "    PLOT_VALUES.append(WYNIK)\n",
    "print(f\"Twoje NPV dla inwestycji 1 wynosi: {WYNIK:.2f}\")\n",
    "\n",
    "# WIZUALIZACJA GRAFICZNA\n",
    "import pandas as pd\n",
    "import matplotlib.pyplot as plt\n",
    "\n",
    "d = {'x' : PLOT_YEARS,\n",
    "     'zł' : PLOT_VALUES}\n",
    "\n",
    "df = pd.DataFrame(d)\n",
    "\n",
    "df.plot('x',y=['zł'])\n",
    "plt.show()"
   ]
  },
  {
   "cell_type": "markdown",
   "metadata": {},
   "source": [
    "ZWROT PO ILU LATACH"
   ]
  },
  {
   "cell_type": "code",
   "execution_count": 16,
   "metadata": {},
   "outputs": [
    {
     "name": "stdout",
     "output_type": "stream",
     "text": [
      "Twoja inwestycja P1 zwróciła się po 14 latach\n"
     ]
    }
   ],
   "source": [
    "\n",
    "P1 = -10000\n",
    "for y,x in enumerate(PRZEPŁYW):\n",
    "    P1 = P1 + x\n",
    "    if P1>0:\n",
    "        print(f\"Twoja inwestycja P1 zwróciła się po {y+1} latach\")\n",
    "        break\n",
    "if P1<0:\n",
    "    print(\"Musisz doczytac ksiązki o inwestowaniu!\")"
   ]
  }
 ],
 "metadata": {
  "interpreter": {
   "hash": "2043299c89c8cd0b4d1a6f5cf4529bd58e6a4e0fe3181a25e0d328c821cdc5c5"
  },
  "kernelspec": {
   "display_name": "Python 3.8.8 ('base')",
   "language": "python",
   "name": "python3"
  },
  "language_info": {
   "codemirror_mode": {
    "name": "ipython",
    "version": 3
   },
   "file_extension": ".py",
   "mimetype": "text/x-python",
   "name": "python",
   "nbconvert_exporter": "python",
   "pygments_lexer": "ipython3",
   "version": "3.8.8"
  },
  "orig_nbformat": 4
 },
 "nbformat": 4,
 "nbformat_minor": 2
}
