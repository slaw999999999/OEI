{
 "cells": [
  {
   "cell_type": "markdown",
   "metadata": {},
   "source": [
    "Zadanie 1"
   ]
  },
  {
   "cell_type": "code",
   "execution_count": 18,
   "metadata": {},
   "outputs": [],
   "source": [
    "P1 = -5720\n",
    "P2 = -5890\n",
    "P3 = -6810"
   ]
  },
  {
   "cell_type": "code",
   "execution_count": 19,
   "metadata": {},
   "outputs": [],
   "source": [
    "P1_INCOME = [670,772,732,815,635,810,675,730,698,686]\n",
    "P2_INCOME = [684,610,687,704,718,628,703,735,734,711]\n",
    "P2_INCOME = [827,656,669,702,659,813,711,748,738,642]"
   ]
  },
  {
   "cell_type": "code",
   "execution_count": 20,
   "metadata": {},
   "outputs": [
    {
     "name": "stdout",
     "output_type": "stream",
     "text": [
      "Twoja inwestycja P1 zwróciła się po 8 latach\n"
     ]
    }
   ],
   "source": [
    "for y,x in enumerate(P1_INCOME):\n",
    "    P1 = P1 + x\n",
    "    if P1>0:\n",
    "        print(f\"Twoja inwestycja P1 zwróciła się po {y+1} latach\")\n",
    "        break"
   ]
  },
  {
   "cell_type": "code",
   "execution_count": 21,
   "metadata": {},
   "outputs": [
    {
     "name": "stdout",
     "output_type": "stream",
     "text": [
      "Twoja inwestycja P2 zwróciła się po 9 latach\n"
     ]
    }
   ],
   "source": [
    "for y,x in enumerate(P2_INCOME):\n",
    "    P2 = P2 + x\n",
    "    if P2>0:\n",
    "        print(f\"Twoja inwestycja P2 zwróciła się po {y+1} latach\")\n",
    "        break"
   ]
  },
  {
   "cell_type": "code",
   "execution_count": 22,
   "metadata": {},
   "outputs": [
    {
     "name": "stdout",
     "output_type": "stream",
     "text": [
      "Twoja inwestycja P3 zwróciła się po 10 latach\n"
     ]
    }
   ],
   "source": [
    "for y,x in enumerate(P1_INCOME):\n",
    "    P3 = P3 + x\n",
    "    if P3>0:\n",
    "        print(f\"Twoja inwestycja P3 zwróciła się po {y+1} latach\")\n",
    "        break"
   ]
  }
 ],
 "metadata": {
  "interpreter": {
   "hash": "2043299c89c8cd0b4d1a6f5cf4529bd58e6a4e0fe3181a25e0d328c821cdc5c5"
  },
  "kernelspec": {
   "display_name": "Python 3.8.8 ('base')",
   "language": "python",
   "name": "python3"
  },
  "language_info": {
   "codemirror_mode": {
    "name": "ipython",
    "version": 3
   },
   "file_extension": ".py",
   "mimetype": "text/x-python",
   "name": "python",
   "nbconvert_exporter": "python",
   "pygments_lexer": "ipython3",
   "version": "3.8.8"
  },
  "orig_nbformat": 4
 },
 "nbformat": 4,
 "nbformat_minor": 2
}
