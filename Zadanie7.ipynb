{
 "cells": [
  {
   "cell_type": "code",
   "execution_count": 13,
   "metadata": {},
   "outputs": [],
   "source": [
    "INWEST = 5710\n",
    "R = 0.11\n",
    "VALUE1 = [5440,5920,6120]\n",
    "PROBABILITY1 = [0.2,0.3,0.5]\n",
    "VALUE2 = [5480,5600,5250,5570]\n",
    "PROBABILITY2 = [0.2,0.3,0.2,0.3]"
   ]
  },
  {
   "cell_type": "markdown",
   "metadata": {},
   "source": [
    "EX"
   ]
  },
  {
   "cell_type": "code",
   "execution_count": 14,
   "metadata": {},
   "outputs": [],
   "source": [
    "EX1 = 0\n",
    "EX1_TABLE = []\n",
    "for y,x in enumerate(VALUE1):\n",
    "    EX1_TABLE.append(x*PROBABILITY1[y])\n",
    "    EX1 = EX1 + x*PROBABILITY1[y]\n",
    "\n",
    "EX2 = 0\n",
    "EX2_TABLE = []\n",
    "for y,x in enumerate(VALUE2):\n",
    "    EX2_TABLE.append(x*PROBABILITY2[y])\n",
    "    EX2 = EX2 + x*PROBABILITY2[y]"
   ]
  },
  {
   "cell_type": "markdown",
   "metadata": {},
   "source": [
    "WARIANCJA\n"
   ]
  },
  {
   "cell_type": "code",
   "execution_count": 15,
   "metadata": {},
   "outputs": [],
   "source": [
    "WARIANCJA1 = 0\n",
    "WARIANCJA1_TABLE = []\n",
    "for y,x in enumerate(VALUE1):\n",
    "    WARIANCJA1_TABLE.append((x-EX1)**(2)*PROBABILITY1[y])\n",
    "    WARIANCJA1 = WARIANCJA1 + (x-EX1)**(2)*PROBABILITY1[y]\n",
    "\n",
    "WARIANCJA2 = 0\n",
    "WARIANCJA2_TABLE = []\n",
    "for y,x in enumerate(VALUE2):\n",
    "    WARIANCJA1_TABLE.append((x-EX2)**(2)*PROBABILITY2[y])\n",
    "    WARIANCJA2 = WARIANCJA2 + (x-EX2)**(2)*PROBABILITY2[y]"
   ]
  },
  {
   "cell_type": "markdown",
   "metadata": {},
   "source": [
    "EX_NPV"
   ]
  },
  {
   "cell_type": "code",
   "execution_count": 16,
   "metadata": {},
   "outputs": [
    {
     "name": "stdout",
     "output_type": "stream",
     "text": [
      "NPV probabilistyczne wynosi: 146.3837\n",
      "NPV probabilistyczne wynosi: -275.7426\n"
     ]
    }
   ],
   "source": [
    "EX1_NPV = 0\n",
    "for y,x in enumerate(EX1_TABLE):\n",
    "    EX1_NPV = EX1_NPV + x/(1+R)**R\n",
    "\n",
    "print(f\"NPV probabilistyczne wynosi: {EX1_NPV-INWEST:.4f}\")\n",
    "\n",
    "\n",
    "EX2_NPV = 0\n",
    "for y,x in enumerate(EX2_TABLE):\n",
    "    EX2_NPV = EX2_NPV + x/(1+R)**R\n",
    "\n",
    "print(f\"NPV probabilistyczne wynosi: {EX2_NPV-INWEST:.4f}\")"
   ]
  }
 ],
 "metadata": {
  "interpreter": {
   "hash": "2043299c89c8cd0b4d1a6f5cf4529bd58e6a4e0fe3181a25e0d328c821cdc5c5"
  },
  "kernelspec": {
   "display_name": "Python 3.8.8 ('base')",
   "language": "python",
   "name": "python3"
  },
  "language_info": {
   "codemirror_mode": {
    "name": "ipython",
    "version": 3
   },
   "file_extension": ".py",
   "mimetype": "text/x-python",
   "name": "python",
   "nbconvert_exporter": "python",
   "pygments_lexer": "ipython3",
   "version": "3.8.8"
  },
  "orig_nbformat": 4
 },
 "nbformat": 4,
 "nbformat_minor": 2
}
